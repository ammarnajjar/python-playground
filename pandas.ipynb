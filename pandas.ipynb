{
 "cells": [
  {
   "cell_type": "markdown",
   "metadata": {},
   "source": [
    "### read to dataframe"
   ]
  },
  {
   "cell_type": "code",
   "execution_count": 4,
   "metadata": {},
   "outputs": [
    {
     "data": {
      "text/plain": [
       "0     1.000\n",
       "1     0.875\n",
       "2     0.750\n",
       "3     0.625\n",
       "4     0.500\n",
       "5     0.375\n",
       "6     0.250\n",
       "7     0.125\n",
       "8     0.000\n",
       "9    -0.125\n",
       "10   -0.250\n",
       "11   -0.375\n",
       "12   -0.500\n",
       "13   -0.625\n",
       "14   -0.750\n",
       "15   -0.875\n",
       "16   -1.000\n",
       "Name: Cos_theta, dtype: float64"
      ]
     },
     "execution_count": 4,
     "metadata": {},
     "output_type": "execute_result"
    }
   ],
   "source": [
    "import pandas as pd\n",
    "\n",
    "scat = pd.read_csv('./test-data/ScatMieData.csv', skiprows=4)\n",
    "scat.Cos_theta"
   ]
  },
  {
   "cell_type": "code",
   "execution_count": 5,
   "metadata": {},
   "outputs": [
    {
     "data": {
      "text/html": [
       "<div>\n",
       "<style scoped>\n",
       "    .dataframe tbody tr th:only-of-type {\n",
       "        vertical-align: middle;\n",
       "    }\n",
       "\n",
       "    .dataframe tbody tr th {\n",
       "        vertical-align: top;\n",
       "    }\n",
       "\n",
       "    .dataframe thead th {\n",
       "        text-align: right;\n",
       "    }\n",
       "</style>\n",
       "<table border=\"1\" class=\"dataframe\">\n",
       "  <thead>\n",
       "    <tr style=\"text-align: right;\">\n",
       "      <th></th>\n",
       "      <th>0</th>\n",
       "      <th>1</th>\n",
       "      <th>2</th>\n",
       "    </tr>\n",
       "  </thead>\n",
       "  <tbody>\n",
       "    <tr>\n",
       "      <th>0</th>\n",
       "      <td>Wavelength [vacuum] (nm) = 532</td>\n",
       "      <td>NaN</td>\n",
       "      <td>NaN</td>\n",
       "    </tr>\n",
       "    <tr>\n",
       "      <th>1</th>\n",
       "      <td>Refractive index of solvent = 1.33</td>\n",
       "      <td>NaN</td>\n",
       "      <td>NaN</td>\n",
       "    </tr>\n",
       "    <tr>\n",
       "      <th>2</th>\n",
       "      <td>Refractive index of particles = 1.59</td>\n",
       "      <td>NaN</td>\n",
       "      <td>NaN</td>\n",
       "    </tr>\n",
       "    <tr>\n",
       "      <th>3</th>\n",
       "      <td>Diameter of particles (microns) = 0.5</td>\n",
       "      <td>NaN</td>\n",
       "      <td>NaN</td>\n",
       "    </tr>\n",
       "  </tbody>\n",
       "</table>\n",
       "</div>"
      ],
      "text/plain": [
       "                                       0   1   2\n",
       "0         Wavelength [vacuum] (nm) = 532 NaN NaN\n",
       "1     Refractive index of solvent = 1.33 NaN NaN\n",
       "2   Refractive index of particles = 1.59 NaN NaN\n",
       "3  Diameter of particles (microns) = 0.5 NaN NaN"
      ]
     },
     "execution_count": 5,
     "metadata": {},
     "output_type": "execute_result"
    }
   ],
   "source": [
    "head = pd.read_csv('./test-data/ScatMieData.csv', nrows=4, header=None)\n",
    "head"
   ]
  },
  {
   "cell_type": "code",
   "execution_count": 11,
   "metadata": {},
   "outputs": [
    {
     "data": {
      "text/plain": [
       "0    532.00\n",
       "1      1.33\n",
       "2      1.59\n",
       "3      0.50\n",
       "Name: value, dtype: float64"
      ]
     },
     "execution_count": 11,
     "metadata": {},
     "output_type": "execute_result"
    }
   ],
   "source": [
    "head = pd.read_table('./test-data/ScatMieData.csv',\n",
    "                     sep='=', \n",
    "                     comment=',',\n",
    "                     nrows=4,\n",
    "                     names=['property', 'value']\n",
    "                    )\n",
    "head.value"
   ]
  },
  {
   "cell_type": "markdown",
   "metadata": {},
   "source": [
    "### plot from dataframe"
   ]
  },
  {
   "cell_type": "code",
   "execution_count": 18,
   "metadata": {},
   "outputs": [
    {
     "data": {
      "image/png": "[encoded data removed]",
      "text/plain": [
       "<Figure size 432x288 with 1 Axes>"
      ]
     },
     "metadata": {
      "needs_background": "light"
     },
     "output_type": "display_data"
    }
   ],
   "source": [
    "import pandas as pd\n",
    "import matplotlib.pyplot as plt\n",
    "import numpy as np\n",
    "\n",
    "header_rows = 4\n",
    "head = pd.read_table('./test-data/ScatMieData.csv', sep='=', nrows=header_rows,\n",
    "                    comment=',', header=None)\n",
    "scat = pd.read_csv('./test-data/ScatMieData.csv', skiprows=header_rows)\n",
    "\n",
    "theta = (180./np.pi)*np.arccos(scat.Cos_theta)\n",
    "\n",
    "fig, ax = plt.subplots(figsize=(6,4))\n",
    "ax.semilogy(theta, scat.F1, 'o', color='black', label='F1')\n",
    "ax.semilogy(theta, scat.F2, 's', mec='black', mfc='white', zorder=-1, label='F2')\n",
    "\n",
    "ax.legend(loc='lower left')\n",
    "ax.set_xlabel('theta (degrees)')\n",
    "ax.set_ylabel('intensity')\n",
    "\n",
    "for i in range(header_rows):\n",
    "    ax.text(0.95, 0.9-i/18, f'{head[0][i]} = {head[1][i]}',\n",
    "           ha='right', fontsize=10, transform=ax.transAxes)\n",
    "    \n",
    "fig.tight_layout()"
   ]
  },
  {
   "cell_type": "markdown",
   "metadata": {},
   "source": [
    "### read space separated files"
   ]
  },
  {
   "cell_type": "code",
   "execution_count": 24,
   "metadata": {},
   "outputs": [
    {
     "name": "stdout",
     "output_type": "stream",
     "text": [
      "         distance      mass  gravity  diameter    year\n",
      "planet                                                \n",
      "Mercury      0.39    0.0550    0.380      0.38    0.24\n",
      "Venus        0.72    0.8200    0.910      0.95    0.62\n",
      "Earth        1.00    1.0000    1.000      1.00    1.00\n",
      "Mars         1.52    0.1100    0.380      0.53    1.88\n",
      "Jupiter      5.20  318.0000    2.360     11.20   11.90\n",
      "Saturn       9.58   95.0000    0.920      9.45   29.00\n",
      "Uranus      19.20   15.0000    0.890      4.01   84.00\n",
      "Neptune     30.00   17.0000    1.120      3.88  164.00\n",
      "Pluto       39.50    0.0024    0.071      0.19  248.00\n",
      "9.58\n"
     ]
    }
   ],
   "source": [
    "import pandas as pd\n",
    "planets = pd.read_table('./test-data/planetData.txt', sep='\\s+', index_col='planet')\n",
    "print(planets)\n",
    "print(planets.distance.Saturn)"
   ]
  },
  {
   "cell_type": "markdown",
   "metadata": {},
   "source": [
    "## series"
   ]
  },
  {
   "cell_type": "code",
   "execution_count": 32,
   "metadata": {},
   "outputs": [
    {
     "data": {
      "text/plain": [
       "Jake       188\n",
       "Sarah      157\n",
       "Heather    173\n",
       "Chris      169\n",
       "Alex       155\n",
       "dtype: int64"
      ]
     },
     "execution_count": 32,
     "metadata": {},
     "output_type": "execute_result"
    }
   ],
   "source": [
    "import pandas as pd\n",
    "pd.Series([160.0 - 4.9*t*t for t in range(6)])\n",
    "heights = pd.Series([188, 157, 173, 169, 155], index=['Jake', 'Sarah', 'Heather', 'Chris', 'Alex'])\n",
    "\n",
    "htd = heights.to_dict()\n",
    "pd.Series(htd)"
   ]
  },
  {
   "cell_type": "markdown",
   "metadata": {},
   "source": [
    "### time series"
   ]
  },
  {
   "cell_type": "code",
   "execution_count": 2,
   "metadata": {},
   "outputs": [
    {
     "data": {
      "text/plain": [
       "2019-09-09    160.0\n",
       "2019-09-10    155.1\n",
       "2019-09-11    140.4\n",
       "2019-09-12    115.9\n",
       "2019-09-13     81.6\n",
       "2019-09-14     37.5\n",
       "Freq: D, dtype: float64"
      ]
     },
     "execution_count": 2,
     "metadata": {},
     "output_type": "execute_result"
    }
   ],
   "source": [
    "import pandas as pd\n",
    "dtr = pd.date_range('2019-09-09', periods=6)\n",
    "pd.Series([160.0-4.9*t*t for t in range(6)], index=dtr)"
   ]
  },
  {
   "cell_type": "markdown",
   "metadata": {},
   "source": [
    "### loc"
   ]
  },
  {
   "cell_type": "code",
   "execution_count": 7,
   "metadata": {},
   "outputs": [
    {
     "data": {
      "text/html": [
       "<div>\n",
       "<style scoped>\n",
       "    .dataframe tbody tr th:only-of-type {\n",
       "        vertical-align: middle;\n",
       "    }\n",
       "\n",
       "    .dataframe tbody tr th {\n",
       "        vertical-align: top;\n",
       "    }\n",
       "\n",
       "    .dataframe thead th {\n",
       "        text-align: right;\n",
       "    }\n",
       "</style>\n",
       "<table border=\"1\" class=\"dataframe\">\n",
       "  <thead>\n",
       "    <tr style=\"text-align: right;\">\n",
       "      <th></th>\n",
       "      <th>mass</th>\n",
       "      <th>gravity</th>\n",
       "    </tr>\n",
       "    <tr>\n",
       "      <th>planet</th>\n",
       "      <th></th>\n",
       "      <th></th>\n",
       "    </tr>\n",
       "  </thead>\n",
       "  <tbody>\n",
       "    <tr>\n",
       "      <th>Saturn</th>\n",
       "      <td>95.0</td>\n",
       "      <td>0.92</td>\n",
       "    </tr>\n",
       "    <tr>\n",
       "      <th>Uranus</th>\n",
       "      <td>15.0</td>\n",
       "      <td>0.89</td>\n",
       "    </tr>\n",
       "  </tbody>\n",
       "</table>\n",
       "</div>"
      ],
      "text/plain": [
       "        mass  gravity\n",
       "planet               \n",
       "Saturn  95.0     0.92\n",
       "Uranus  15.0     0.89"
      ]
     },
     "execution_count": 7,
     "metadata": {},
     "output_type": "execute_result"
    }
   ],
   "source": [
    "import pandas as pd\n",
    "planets = pd.read_table('./test-data/planetData.txt',\n",
    "                        sep='\\s+', index_col='planet')\n",
    "planets.loc[(planets['mass'] > 1.0) &\n",
    "            (planets['gravity'] < 1.0),\n",
    "            'mass': 'gravity']"
   ]
  },
  {
   "cell_type": "markdown",
   "metadata": {},
   "source": [
    "### DataFrame()"
   ]
  },
  {
   "cell_type": "code",
   "execution_count": 12,
   "metadata": {},
   "outputs": [
    {
     "data": {
      "text/html": [
       "<div>\n",
       "<style scoped>\n",
       "    .dataframe tbody tr th:only-of-type {\n",
       "        vertical-align: middle;\n",
       "    }\n",
       "\n",
       "    .dataframe tbody tr th {\n",
       "        vertical-align: top;\n",
       "    }\n",
       "\n",
       "    .dataframe thead th {\n",
       "        text-align: right;\n",
       "    }\n",
       "</style>\n",
       "<table border=\"1\" class=\"dataframe\">\n",
       "  <thead>\n",
       "    <tr style=\"text-align: right;\">\n",
       "      <th></th>\n",
       "      <th>mat</th>\n",
       "      <th>index</th>\n",
       "      <th>density</th>\n",
       "    </tr>\n",
       "  </thead>\n",
       "  <tbody>\n",
       "    <tr>\n",
       "      <th>0</th>\n",
       "      <td>silica</td>\n",
       "      <td>1.24</td>\n",
       "      <td>2.03</td>\n",
       "    </tr>\n",
       "    <tr>\n",
       "      <th>1</th>\n",
       "      <td>titania</td>\n",
       "      <td>2.40</td>\n",
       "      <td>4.20</td>\n",
       "    </tr>\n",
       "    <tr>\n",
       "      <th>2</th>\n",
       "      <td>PMMA</td>\n",
       "      <td>1.49</td>\n",
       "      <td>1.19</td>\n",
       "    </tr>\n",
       "    <tr>\n",
       "      <th>3</th>\n",
       "      <td>PS</td>\n",
       "      <td>1.59</td>\n",
       "      <td>1.05</td>\n",
       "    </tr>\n",
       "  </tbody>\n",
       "</table>\n",
       "</div>"
      ],
      "text/plain": [
       "       mat  index  density\n",
       "0   silica   1.24     2.03\n",
       "1  titania   2.40     4.20\n",
       "2     PMMA   1.49     1.19\n",
       "3       PS   1.59     1.05"
      ]
     },
     "execution_count": 12,
     "metadata": {},
     "output_type": "execute_result"
    }
   ],
   "source": [
    "import pandas as pd\n",
    "optmat = {\n",
    "    'mat': ['silica', 'titania', 'PMMA', 'PS'],\n",
    "    'index': [1.24, 2.40, 1.49, 1.59],\n",
    "    'density': [2.03, 4.2, 1.19, 1.05]\n",
    "}\n",
    "omdf = pd.DataFrame(optmat)\n",
    "omdf"
   ]
  },
  {
   "cell_type": "code",
   "execution_count": 18,
   "metadata": {},
   "outputs": [
    {
     "data": {
      "text/plain": [
       "index      float64\n",
       "density    float64\n",
       "dtype: object"
      ]
     },
     "execution_count": 18,
     "metadata": {},
     "output_type": "execute_result"
    }
   ],
   "source": [
    "omdf = pd.DataFrame(\n",
    "    index=['silica', 'titania', 'PMMA', 'PS'],\n",
    "    columns={'density', 'index'}\n",
    ")\n",
    "omdf.loc['PS', ('index', 'density')] = (1.05, 1.59)\n",
    "omdf[['index', 'density']] = omdf[['index', 'density']].apply(pd.to_numeric)\n",
    "omdf.dtypes"
   ]
  },
  {
   "cell_type": "markdown",
   "metadata": {},
   "source": [
    "### read URL"
   ]
  },
  {
   "cell_type": "code",
   "execution_count": 32,
   "metadata": {},
   "outputs": [
    {
     "name": "stdout",
     "output_type": "stream",
     "text": [
      "Currency Value on 2019-09-10 00:00:00\n",
      "Australian dollar    Con$   0.9023\n",
      "Brazilian real       Con$   0.3205\n",
      "Chinese renminbi     Con$    0.185\n",
      "European euro        Con$   1.4522\n",
      "Hong Kong dollar     Con$   0.1678\n",
      "Indian rupee         Con$  0.01829\n",
      "Indonesian rupiah    Con$  9.4e-05\n",
      "Japanese yen         Con$  0.01225\n",
      "Malaysian ringgit    Con$   0.3153\n",
      "Mexican peso         Con$  0.06736\n",
      "New Zealand dollar   Con$   0.8443\n",
      "Norwegian krone      Con$   0.1468\n",
      "Peruvian new sol     Con$   0.3931\n",
      "Russian ruble        Con$   0.0201\n",
      "Saudi riyal          Con$   0.3506\n",
      "Singapore dollar     Con$   0.9534\n",
      "South African rand   Con$  0.08965\n",
      "South Korean won     Con$ 0.001103\n",
      "Swedish krona        Con$   0.1356\n",
      "Swiss franc          Con$   1.3274\n",
      "Taiwanese dollar     Con$  0.04212\n",
      "Thai baht            Con$  0.04296\n",
      "Turkish lira         Con$   0.2278\n",
      "UK pound sterling    Con$   1.6249\n",
      "US dollar            Con$   1.3153\n",
      "Vietnamese dong      Con$  5.7e-05\n"
     ]
    }
   ],
   "source": [
    "import pandas as pd\n",
    "\n",
    "url = 'http://www.bankofcanada.ca/valet/observations/group/FX_RATES_DAILY/csv?start_date=2017-01-03'\n",
    "rates = pd.read_csv(url, skiprows=39, index_col='date')\n",
    "rates.index = pd.to_datetime(rates.index)\n",
    "days, currencies = rates.shape\n",
    "codes = pd.read_csv(url, skiprows=10, usecols=[0,2], nrows=currencies)\n",
    "\n",
    "for i in range(currencies):\n",
    "    codes.iloc[i, 1] = codes.iloc[i, 1].split( ' to Canadian')[0]\n",
    "date = rates.index[-1]\n",
    "print(f'Currency Value on {date}')\n",
    "for (code, rate) in zip(codes.iloc[:,1], rates.loc[date]):\n",
    "    print(f'{code:20s} Con$ {rate:8.6g}')"
   ]
  },
  {
   "cell_type": "markdown",
   "metadata": {},
   "source": [
    "### extract info from dataframe"
   ]
  },
  {
   "cell_type": "code",
   "execution_count": 60,
   "metadata": {},
   "outputs": [
    {
     "data": {
      "text/plain": [
       "<matplotlib.axes._subplots.AxesSubplot at 0x7f4e46f5e4a8>"
      ]
     },
     "execution_count": 60,
     "metadata": {},
     "output_type": "execute_result"
    },
    {
     "data": {
      "image/png": "[encoded data removed]",
      "text/plain": [
       "<Figure size 432x288 with 1 Axes>"
      ]
     },
     "metadata": {
      "needs_background": "light"
     },
     "output_type": "display_data"
    }
   ],
   "source": [
    "import pandas as pd\n",
    "import numpy as np\n",
    "\n",
    "planets = pd.read_table('./test-data/planetData.txt',\n",
    "                        sep='\\s+', index_col='planet')\n",
    "planets.sort_values(by='mass', ascending=False)\n",
    "planets[planets['gravity'] > 1]\n",
    "planets['volume'] = np.pi* planets['diameter'] ** 3 / 6.0\n",
    "planets.distance.median()\n",
    "planets['gravity'].plot.bar(color='C0')\n"
   ]
  },
  {
   "cell_type": "markdown",
   "metadata": {},
   "source": [
    "### group by"
   ]
  },
  {
   "cell_type": "code",
   "execution_count": 61,
   "metadata": {},
   "outputs": [
    {
     "data": {
      "text/html": [
       "<div>\n",
       "<style scoped>\n",
       "    .dataframe tbody tr th:only-of-type {\n",
       "        vertical-align: middle;\n",
       "    }\n",
       "\n",
       "    .dataframe tbody tr th {\n",
       "        vertical-align: top;\n",
       "    }\n",
       "\n",
       "    .dataframe thead th {\n",
       "        text-align: right;\n",
       "    }\n",
       "</style>\n",
       "<table border=\"1\" class=\"dataframe\">\n",
       "  <thead>\n",
       "    <tr style=\"text-align: right;\">\n",
       "      <th></th>\n",
       "      <th>Destination</th>\n",
       "      <th>Airline</th>\n",
       "      <th>Flight</th>\n",
       "      <th>Departure</th>\n",
       "      <th>Terminal</th>\n",
       "      <th>Status</th>\n",
       "      <th>Arrival_time</th>\n",
       "      <th>A_day</th>\n",
       "      <th>Scheduled</th>\n",
       "      <th>S_day</th>\n",
       "    </tr>\n",
       "  </thead>\n",
       "  <tbody>\n",
       "    <tr>\n",
       "      <th>0</th>\n",
       "      <td>Baltimore (BWI)</td>\n",
       "      <td>Southwest Airlines</td>\n",
       "      <td>WN 8512</td>\n",
       "      <td>12:09 AM</td>\n",
       "      <td>NaN</td>\n",
       "      <td>Landed</td>\n",
       "      <td>NaN</td>\n",
       "      <td>NaN</td>\n",
       "      <td>NaN</td>\n",
       "      <td>NaN</td>\n",
       "    </tr>\n",
       "    <tr>\n",
       "      <th>1</th>\n",
       "      <td>Baltimore (BWI)</td>\n",
       "      <td>Mountain Air Cargo</td>\n",
       "      <td>C2 7304</td>\n",
       "      <td>12:10 AM</td>\n",
       "      <td>NaN</td>\n",
       "      <td>Unknown</td>\n",
       "      <td>NaN</td>\n",
       "      <td>NaN</td>\n",
       "      <td>NaN</td>\n",
       "      <td>NaN</td>\n",
       "    </tr>\n",
       "    <tr>\n",
       "      <th>2</th>\n",
       "      <td>Paris (ORY)</td>\n",
       "      <td>Norwegian Air Shuttle</td>\n",
       "      <td>DY 7192</td>\n",
       "      <td>12:30 AM</td>\n",
       "      <td>B</td>\n",
       "      <td>Landed</td>\n",
       "      <td>1:48 PM</td>\n",
       "      <td>NaN</td>\n",
       "      <td>1:35 PM</td>\n",
       "      <td>NaN</td>\n",
       "    </tr>\n",
       "    <tr>\n",
       "      <th>3</th>\n",
       "      <td>Paris (ORY)</td>\n",
       "      <td>euroAtlantic Airways</td>\n",
       "      <td>YU 7192</td>\n",
       "      <td>12:30 AM</td>\n",
       "      <td>B</td>\n",
       "      <td>Landed</td>\n",
       "      <td>1:48 PM</td>\n",
       "      <td>NaN</td>\n",
       "      <td>1:35 PM</td>\n",
       "      <td>NaN</td>\n",
       "    </tr>\n",
       "    <tr>\n",
       "      <th>4</th>\n",
       "      <td>Rockford (RFD)</td>\n",
       "      <td>UPS</td>\n",
       "      <td>5X 108</td>\n",
       "      <td>12:48 AM</td>\n",
       "      <td>NaN</td>\n",
       "      <td>Unknown</td>\n",
       "      <td>NaN</td>\n",
       "      <td>NaN</td>\n",
       "      <td>NaN</td>\n",
       "      <td>NaN</td>\n",
       "    </tr>\n",
       "  </tbody>\n",
       "</table>\n",
       "</div>"
      ],
      "text/plain": [
       "       Destination                Airline   Flight Departure Terminal  \\\n",
       "0  Baltimore (BWI)     Southwest Airlines  WN 8512  12:09 AM      NaN   \n",
       "1  Baltimore (BWI)     Mountain Air Cargo  C2 7304  12:10 AM      NaN   \n",
       "2      Paris (ORY)  Norwegian Air Shuttle  DY 7192  12:30 AM        B   \n",
       "3      Paris (ORY)   euroAtlantic Airways  YU 7192  12:30 AM        B   \n",
       "4   Rockford (RFD)                    UPS   5X 108  12:48 AM      NaN   \n",
       "\n",
       "    Status Arrival_time  A_day Scheduled  S_day  \n",
       "0   Landed          NaN    NaN       NaN    NaN  \n",
       "1  Unknown          NaN    NaN       NaN    NaN  \n",
       "2   Landed      1:48 PM    NaN   1:35 PM    NaN  \n",
       "3   Landed      1:48 PM    NaN   1:35 PM    NaN  \n",
       "4  Unknown          NaN    NaN       NaN    NaN  "
      ]
     },
     "execution_count": 61,
     "metadata": {},
     "output_type": "execute_result"
    }
   ],
   "source": [
    "import pandas as pd\n",
    "\n",
    "ewr = pd.read_csv('./test-data/ewrFlights20180516.csv')\n",
    "ewr.head()"
   ]
  },
  {
   "cell_type": "code",
   "execution_count": 63,
   "metadata": {},
   "outputs": [
    {
     "data": {
      "text/plain": [
       "Landed - On-time       757\n",
       "Landed - Delayed       720\n",
       "Canceled                41\n",
       "Landed                  18\n",
       "En Route - Delayed      10\n",
       "Unknown                  4\n",
       "Scheduled - Delayed      2\n",
       "En Route - On-time       1\n",
       "Diverted                 1\n",
       "En Route                 1\n",
       "Name: Status, dtype: int64"
      ]
     },
     "execution_count": 63,
     "metadata": {},
     "output_type": "execute_result"
    }
   ],
   "source": [
    "ewr['Status'].value_counts()"
   ]
  },
  {
   "cell_type": "code",
   "execution_count": 64,
   "metadata": {},
   "outputs": [
    {
     "data": {
      "text/plain": [
       "Terminal  Status             \n",
       "A         Landed - On-time       229\n",
       "          Landed - Delayed       218\n",
       "          Canceled                21\n",
       "          Landed                   3\n",
       "B         Landed - On-time       104\n",
       "          Landed - Delayed        70\n",
       "          En Route - Delayed       6\n",
       "          Canceled                 4\n",
       "          Landed                   4\n",
       "          Scheduled - Delayed      2\n",
       "          En Route - On-time       1\n",
       "C         Landed - Delayed       413\n",
       "          Landed - On-time       395\n",
       "          Canceled                14\n",
       "          En Route - Delayed       4\n",
       "Name: Status, dtype: int64"
      ]
     },
     "execution_count": 64,
     "metadata": {},
     "output_type": "execute_result"
    }
   ],
   "source": [
    "ewr['Status'].groupby(ewr['Terminal']).value_counts()"
   ]
  },
  {
   "cell_type": "code",
   "execution_count": 70,
   "metadata": {},
   "outputs": [
    {
     "data": {
      "text/html": [
       "<div>\n",
       "<style scoped>\n",
       "    .dataframe tbody tr th:only-of-type {\n",
       "        vertical-align: middle;\n",
       "    }\n",
       "\n",
       "    .dataframe tbody tr th {\n",
       "        vertical-align: top;\n",
       "    }\n",
       "\n",
       "    .dataframe thead th {\n",
       "        text-align: right;\n",
       "    }\n",
       "</style>\n",
       "<table border=\"1\" class=\"dataframe\">\n",
       "  <thead>\n",
       "    <tr style=\"text-align: right;\">\n",
       "      <th></th>\n",
       "      <th>Airline</th>\n",
       "      <th>Flights Landed</th>\n",
       "      <th>On-time fraction</th>\n",
       "    </tr>\n",
       "  </thead>\n",
       "  <tbody>\n",
       "    <tr>\n",
       "      <th>0</th>\n",
       "      <td>Air Canada</td>\n",
       "      <td>129</td>\n",
       "      <td>0.472868</td>\n",
       "    </tr>\n",
       "    <tr>\n",
       "      <th>1</th>\n",
       "      <td>Air China</td>\n",
       "      <td>24</td>\n",
       "      <td>0.750000</td>\n",
       "    </tr>\n",
       "    <tr>\n",
       "      <th>2</th>\n",
       "      <td>Air New Zealand</td>\n",
       "      <td>34</td>\n",
       "      <td>0.617647</td>\n",
       "    </tr>\n",
       "    <tr>\n",
       "      <th>3</th>\n",
       "      <td>Alaska Airlines</td>\n",
       "      <td>20</td>\n",
       "      <td>0.500000</td>\n",
       "    </tr>\n",
       "    <tr>\n",
       "      <th>4</th>\n",
       "      <td>American Airlines</td>\n",
       "      <td>27</td>\n",
       "      <td>0.592593</td>\n",
       "    </tr>\n",
       "    <tr>\n",
       "      <th>5</th>\n",
       "      <td>Austrian</td>\n",
       "      <td>28</td>\n",
       "      <td>0.428571</td>\n",
       "    </tr>\n",
       "    <tr>\n",
       "      <th>6</th>\n",
       "      <td>Brussels Airlines</td>\n",
       "      <td>21</td>\n",
       "      <td>0.523810</td>\n",
       "    </tr>\n",
       "    <tr>\n",
       "      <th>7</th>\n",
       "      <td>CommutAir</td>\n",
       "      <td>47</td>\n",
       "      <td>0.531915</td>\n",
       "    </tr>\n",
       "    <tr>\n",
       "      <th>8</th>\n",
       "      <td>Copa Airlines</td>\n",
       "      <td>12</td>\n",
       "      <td>0.333333</td>\n",
       "    </tr>\n",
       "    <tr>\n",
       "      <th>9</th>\n",
       "      <td>Delta Air Lines</td>\n",
       "      <td>33</td>\n",
       "      <td>0.606061</td>\n",
       "    </tr>\n",
       "    <tr>\n",
       "      <th>10</th>\n",
       "      <td>ExpressJet</td>\n",
       "      <td>64</td>\n",
       "      <td>0.531250</td>\n",
       "    </tr>\n",
       "    <tr>\n",
       "      <th>11</th>\n",
       "      <td>FedEx</td>\n",
       "      <td>27</td>\n",
       "      <td>0.555556</td>\n",
       "    </tr>\n",
       "    <tr>\n",
       "      <th>12</th>\n",
       "      <td>JetBlue Airways</td>\n",
       "      <td>24</td>\n",
       "      <td>0.416667</td>\n",
       "    </tr>\n",
       "    <tr>\n",
       "      <th>13</th>\n",
       "      <td>Lufthansa</td>\n",
       "      <td>119</td>\n",
       "      <td>0.403361</td>\n",
       "    </tr>\n",
       "    <tr>\n",
       "      <th>14</th>\n",
       "      <td>Republic Airlines</td>\n",
       "      <td>66</td>\n",
       "      <td>0.606061</td>\n",
       "    </tr>\n",
       "    <tr>\n",
       "      <th>15</th>\n",
       "      <td>SAS</td>\n",
       "      <td>94</td>\n",
       "      <td>0.414894</td>\n",
       "    </tr>\n",
       "    <tr>\n",
       "      <th>16</th>\n",
       "      <td>SWISS</td>\n",
       "      <td>20</td>\n",
       "      <td>0.450000</td>\n",
       "    </tr>\n",
       "    <tr>\n",
       "      <th>17</th>\n",
       "      <td>Southwest Airlines</td>\n",
       "      <td>18</td>\n",
       "      <td>0.500000</td>\n",
       "    </tr>\n",
       "    <tr>\n",
       "      <th>18</th>\n",
       "      <td>TAP Portugal</td>\n",
       "      <td>38</td>\n",
       "      <td>0.315789</td>\n",
       "    </tr>\n",
       "    <tr>\n",
       "      <th>19</th>\n",
       "      <td>United Airlines</td>\n",
       "      <td>417</td>\n",
       "      <td>0.529976</td>\n",
       "    </tr>\n",
       "    <tr>\n",
       "      <th>20</th>\n",
       "      <td>Virgin Atlantic</td>\n",
       "      <td>26</td>\n",
       "      <td>0.615385</td>\n",
       "    </tr>\n",
       "  </tbody>\n",
       "</table>\n",
       "</div>"
      ],
      "text/plain": [
       "               Airline  Flights Landed  On-time fraction\n",
       "0           Air Canada             129          0.472868\n",
       "1            Air China              24          0.750000\n",
       "2      Air New Zealand              34          0.617647\n",
       "3      Alaska Airlines              20          0.500000\n",
       "4    American Airlines              27          0.592593\n",
       "5             Austrian              28          0.428571\n",
       "6    Brussels Airlines              21          0.523810\n",
       "7            CommutAir              47          0.531915\n",
       "8        Copa Airlines              12          0.333333\n",
       "9      Delta Air Lines              33          0.606061\n",
       "10          ExpressJet              64          0.531250\n",
       "11               FedEx              27          0.555556\n",
       "12     JetBlue Airways              24          0.416667\n",
       "13           Lufthansa             119          0.403361\n",
       "14   Republic Airlines              66          0.606061\n",
       "15                 SAS              94          0.414894\n",
       "16               SWISS              20          0.450000\n",
       "17  Southwest Airlines              18          0.500000\n",
       "18        TAP Portugal              38          0.315789\n",
       "19     United Airlines             417          0.529976\n",
       "20     Virgin Atlantic              26          0.615385"
      ]
     },
     "execution_count": 70,
     "metadata": {},
     "output_type": "execute_result"
    }
   ],
   "source": [
    "ot = []\n",
    "for airln, grp in ewr.groupby(ewr['Airline']):\n",
    "    # print(f'\\nairln = {airln}: \\ngrp:\\n{grp}')\n",
    "    ontime = grp.Status[grp.Status == 'Landed - On-time'].count()\n",
    "    delayed = grp.Status[grp.Status == 'Landed - Delayed'].count()\n",
    "    tot1 = ontime + delayed\n",
    "    if tot1 >= 12:\n",
    "        ot.append([airln, tot1, ontime/tot1])\n",
    "t = pd.DataFrame.from_records(ot, columns=[\n",
    "    'Airline', 'Flights Landed', 'On-time fraction'])\n",
    "t"
   ]
  },
  {
   "cell_type": "code",
   "execution_count": 78,
   "metadata": {
    "scrolled": true
   },
   "outputs": [
    {
     "data": {
      "text/plain": [
       "<matplotlib.axes._subplots.AxesSubplot at 0x7f4e44c6e7f0>"
      ]
     },
     "execution_count": 78,
     "metadata": {},
     "output_type": "execute_result"
    },
    {
     "data": {
      "image/png": "[encoded data removed]",
      "text/plain": [
       "<Figure size 432x288 with 1 Axes>"
      ]
     },
     "metadata": {
      "needs_background": "light"
     },
     "output_type": "display_data"
    }
   ],
   "source": [
    "ewr.Arrival_time.hist()"
   ]
  }
 ],
 "metadata": {
  "kernelspec": {
   "display_name": "Python 3",
   "language": "python",
   "name": "python3"
  },
  "language_info": {
   "codemirror_mode": {
    "name": "ipython",
    "version": 3
   },
   "file_extension": ".py",
   "mimetype": "text/x-python",
   "name": "python",
   "nbconvert_exporter": "python",
   "pygments_lexer": "ipython3",
   "version": "3.7.3"
  }
 },
 "nbformat": 4,
 "nbformat_minor": 4
}
